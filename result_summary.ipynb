{
 "cells": [
  {
   "cell_type": "code",
   "execution_count": null,
   "metadata": {},
   "outputs": [],
   "source": [
    "import pandas as pd\n",
    "import numpy as np\n",
    "import csv\n",
    "from scipy.stats import rankdata\n",
    "from matplotlib import pyplot as plt"
   ]
  },
  {
   "cell_type": "code",
   "execution_count": null,
   "metadata": {},
   "outputs": [],
   "source": [
    "seed_list = range(20)\n",
    "m_imputations = 10\n",
    "s = 50\n",
    "t= 250\n",
    "\n",
    "test_size=0.5\n",
    "dataset_list = ['avila', 'biodeg', 'landcover',  'letter', 'magic',  'optdigits', 'page-blocks',  'penbased', 'ring', 'satimage', 'segment', 'spambase', 'steel', 'texture', 'twonorm', 'vehicle', 'vowel', 'waveform', 'winequality-red', 'winequality-white']\n",
    "missing_rate_list = [10,20,30,40,50]\n",
    "classifier_list = ['rf','nn','lr']\n",
    "method_list = ['random', 'lc', 'lm', 'entropy', 'gini', 'cumir', 'proposed_lm']"
   ]
  },
  {
   "cell_type": "code",
   "execution_count": null,
   "metadata": {},
   "outputs": [],
   "source": [
    "for dataset in dataset_list:\n",
    "    for missing_rate in missing_rate_list:\n",
    "        for classifier in classifier_list:\n",
    "            for method in method_list:      \n",
    "                    array = np.empty((0,1))\n",
    "                    for seed in seed_list:\n",
    "                        a = pd.read_csv('./result/{0}_{1}_{2}_{3}_{4}.csv'.format(method ,dataset, missing_rate, classifier, seed), delimiter=',', header=None)\n",
    "                        a_array = np.array(a)\n",
    "                        array = np.concatenate((array.reshape(t+1,-1), a_array), axis=1)\n",
    "                    avg_array = np.mean(array, axis=1)\n",
    "                        \n",
    "                    b = open('./result/avg/{0}_{1}_{2}_{3}.csv'.format(method, dataset, missing_rate, classifier), 'w', newline='')\n",
    "                    wrb = csv.writer(b)\n",
    "                    for i in avg_array:\n",
    "                        wrb.writerow([i])\n",
    "                    b.close()"
   ]
  },
  {
   "cell_type": "code",
   "execution_count": null,
   "metadata": {},
   "outputs": [],
   "source": [
    "for missing_rate in missing_rate_list:\n",
    "    for classifier in classifier_list:\n",
    "        for method in method_list:\n",
    "            array = np.empty((0,1))\n",
    "            for dataset in dataset_list:\n",
    "                a = pd.read_csv('./result/avg/{0}_{1}_{2}_{3}.csv'.format(method, dataset, missing_rate, classifier), delimiter=',', header=None)\n",
    "                a_array = np.array(a)\n",
    "                start_point = a_array[0]\n",
    "                a_array -= start_point\n",
    "                array = np.concatenate((array.reshape(t+1,-1), a_array), axis=1)\n",
    "            avg_array = np.mean(array, axis=1)\n",
    "                    \n",
    "            b = open('./result/avg/mai/{0}_{1}_{2}.csv'.format(method,missing_rate,classifier), 'w', newline='')\n",
    "            wrb = csv.writer(b)\n",
    "            for i in avg_array:\n",
    "                wrb.writerow([i])\n",
    "            b.close()\n",
    "           "
   ]
  },
  {
   "cell_type": "code",
   "execution_count": null,
   "metadata": {},
   "outputs": [],
   "source": [
    "iteration = 250\n",
    "for classifier in classifier_list:\n",
    "    b = open('./result/avg_rank/avg/iter{0}_{1}.csv'.format(iteration, classifier),'w',newline='')\n",
    "    c = open('./result/avg_rank/std/iter{0}_{1}.csv'.format(iteration, classifier), 'w', newline='')\n",
    "    for missing_rate in missing_rate_list:\n",
    "        rank_matrix = np.zeros((20,7))\n",
    "        \n",
    "        for dataset_idx, dataset in enumerate(dataset_list):\n",
    "            \n",
    "            proposed_lm = pd.read_csv('./result/avg/proposed_lm_{0}_{1}_{2}.csv'.format(dataset, missing_rate, classifier), delimiter=',',header=None)\n",
    "            proposed_lm = np.array(proposed_lm)[iteration]\n",
    "            lc = pd.read_csv('./result/avg/lc_{0}_{1}_{2}.csv'.format(dataset, missing_rate, classifier), delimiter=',',header=None)\n",
    "            lc = np.array(lc)[iteration]\n",
    "            lm = pd.read_csv('./result/avg/lm_{0}_{1}_{2}.csv'.format(dataset, missing_rate, classifier), delimiter=',',header=None)\n",
    "            lm = np.array(lm)[iteration]\n",
    "            entropy = pd.read_csv('./result/avg/entropy_{0}_{1}_{2}.csv'.format(dataset, missing_rate, classifier), delimiter=',',header=None)\n",
    "            entropy = np.array(entropy)[iteration]\n",
    "            gini = pd.read_csv('./result/avg/gini_{0}_{1}_{2}.csv'.format(dataset, missing_rate, classifier), delimiter=',',header=None)\n",
    "            gini = np.array(gini)[iteration]\n",
    "            cumir = pd.read_csv('./result/avg/cumir_{0}_{1}_{2}.csv'.format(dataset, missing_rate, classifier), delimiter=',',header=None)\n",
    "            cumir = np.array(cumir)[iteration]\n",
    "            random = pd.read_csv('./result/avg/random_{0}_{1}_{2}.csv'.format(dataset, missing_rate, classifier), delimiter=',',header=None)\n",
    "            random = np.array(random)[iteration]\n",
    "\n",
    "            comparison_matrix = np.concatenate((random, lc, lm, entropy, gini,cumir, proposed_lm), axis=0)\n",
    "            comparison_matrix = -comparison_matrix\n",
    "            \n",
    "            comparison_rank = rankdata(comparison_matrix)\n",
    "            rank_matrix[dataset_idx] = comparison_rank\n",
    "        \n",
    "        average_rank_matrix = np.mean(rank_matrix, axis=0)\n",
    "        average_rank_matrix = np.round(average_rank_matrix,2)\n",
    "        \n",
    "        std_rank_matrix = np.std(rank_matrix, axis=0)\n",
    "        std_rank_matrix = np.round(std_rank_matrix,2)\n",
    "        print('iter:',iteration, 'clf:', classifier,'missing:', missing_rate)\n",
    "        \n",
    "        wrb = csv.writer(b)\n",
    "        wrb.writerow(average_rank_matrix)\n",
    "        wrc = csv.writer(c)\n",
    "        wrc.writerow(std_rank_matrix)\n",
    "    b.close()\n",
    "    c.close()"
   ]
  },
  {
   "cell_type": "code",
   "execution_count": null,
   "metadata": {},
   "outputs": [],
   "source": [
    "for classifier in classifier_list:\n",
    "    avg = pd.read_csv('./result/avg_rank/avg/iter{0}_{1}.csv'.format(iteration, classifier), delimiter=',', header=None).values\n",
    "    std = pd.read_csv('./result/avg_rank/std/iter{0}_{1}.csv'.format(iteration, classifier), delimiter=',', header=None).values\n",
    "    \n",
    "    d = open('./result/avg_rank/total/iter{0}_{1}.csv'.format(iteration, classifier), 'w', newline='')\n",
    "    for i in range(avg.shape[0]):\n",
    "        \n",
    "        aList=[]\n",
    "        for j in range(avg.shape[1]):\n",
    "            avg_val = avg[i,j]\n",
    "            std_val = std[i,j]\n",
    "            total_str = '%.2f±%.2f'%(avg_val, std_val)\n",
    "            aList.append(total_str)\n",
    "        print(aList)\n",
    "        wrd = csv.writer(d)\n",
    "        wrd.writerow(aList)\n",
    "    d.close()"
   ]
  }
 ],
 "metadata": {
  "kernelspec": {
   "display_name": "Python 3",
   "language": "python",
   "name": "python3"
  },
  "language_info": {
   "codemirror_mode": {
    "name": "ipython",
    "version": 3
   },
   "file_extension": ".py",
   "mimetype": "text/x-python",
   "name": "python",
   "nbconvert_exporter": "python",
   "pygments_lexer": "ipython3",
   "version": "3.6.5"
  }
 },
 "nbformat": 4,
 "nbformat_minor": 2
}
